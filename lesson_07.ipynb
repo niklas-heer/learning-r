{
 "cells": [
  {
   "cell_type": "markdown",
   "metadata": {},
   "source": [
    "# Lesson 7\n",
    "\n",
    "## Law of Large Numbers\n",
    "\n",
    "Test the [Law Of Large Numbers](https://en.wikipedia.org/wiki/Law_of_large_numbers) for N random normally distributed numbers with `mean = 0`, `stdev = 1`:\n",
    "\n",
    "* Create an R script that will count how many of these numbers fall between -1 and 1 and divide by the total quantity of N\n",
    "* You know that `E(X) = 68.2%`\n",
    "* Check that `Mean(Xn) -> E(X)` as your rerun your script while increasing N"
   ]
  },
  {
   "cell_type": "code",
   "execution_count": 9,
   "metadata": {},
   "outputs": [
    {
     "data": {
      "text/html": [
       "0.68587"
      ],
      "text/latex": [
       "0.68587"
      ],
      "text/markdown": [
       "0.68587"
      ],
      "text/plain": [
       "[1] 0.68587"
      ]
     },
     "metadata": {},
     "output_type": "display_data"
    }
   ],
   "source": [
    "N <- 100000\n",
    "counter <- 0\n",
    "\n",
    "for (i in rnorm(N)) {\n",
    "    if (i > -1 & i < 1) {\n",
    "        counter <- counter + 1\n",
    "    }\n",
    "}\n",
    "\n",
    "answer <- counter / N\n",
    "answer"
   ]
  }
 ],
 "metadata": {
  "kernelspec": {
   "display_name": "R",
   "language": "R",
   "name": "ir"
  },
  "language_info": {
   "codemirror_mode": "r",
   "file_extension": ".r",
   "mimetype": "text/x-r-source",
   "name": "R",
   "pygments_lexer": "r",
   "version": "3.4.3"
  }
 },
 "nbformat": 4,
 "nbformat_minor": 2
}
