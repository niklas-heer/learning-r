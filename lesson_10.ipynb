{
 "cells": [
  {
   "cell_type": "markdown",
   "metadata": {},
   "source": [
    "# Lesson 10\n",
    "\n",
    "## Functions\n",
    "\n",
    "With `?<function>` you can bring up the help page!\n",
    "\n",
    "Functions used so far:\n",
    "* `rnorm()`\n",
    "* `c()`\n",
    "* `seq()`\n",
    "* `rep()`\n",
    "* `print()`\n",
    "* `is.numeric()`\n",
    "* `is.integer()`\n",
    "* `is.double()`\n",
    "* `is.character()`\n",
    "* `typeof()`\n",
    "* `sqrt()`\n",
    "* `paste()`"
   ]
  },
  {
   "cell_type": "code",
   "execution_count": 8,
   "metadata": {},
   "outputs": [],
   "source": [
    "?rnorm()"
   ]
  },
  {
   "cell_type": "markdown",
   "metadata": {},
   "source": [
    "Using a function...\n",
    "\n",
    "`rnorm(n, mean = 0, sd = 1)`"
   ]
  },
  {
   "cell_type": "code",
   "execution_count": 7,
   "metadata": {},
   "outputs": [
    {
     "data": {
      "text/html": [
       "<ol class=list-inline>\n",
       "\t<li>-0.708732105995519</li>\n",
       "\t<li>11.8300058674648</li>\n",
       "\t<li>12.0621416188467</li>\n",
       "\t<li>19.5168135587412</li>\n",
       "\t<li>14.8153290746687</li>\n",
       "</ol>\n"
      ],
      "text/latex": [
       "\\begin{enumerate*}\n",
       "\\item -0.708732105995519\n",
       "\\item 11.8300058674648\n",
       "\\item 12.0621416188467\n",
       "\\item 19.5168135587412\n",
       "\\item 14.8153290746687\n",
       "\\end{enumerate*}\n"
      ],
      "text/markdown": [
       "1. -0.708732105995519\n",
       "2. 11.8300058674648\n",
       "3. 12.0621416188467\n",
       "4. 19.5168135587412\n",
       "5. 14.8153290746687\n",
       "\n",
       "\n"
      ],
      "text/plain": [
       "[1] -0.7087321 11.8300059 12.0621416 19.5168136 14.8153291"
      ]
     },
     "metadata": {},
     "output_type": "display_data"
    }
   ],
   "source": [
    "rnorm(5, 10, 8)"
   ]
  },
  {
   "cell_type": "markdown",
   "metadata": {},
   "source": [
    "You also can explicitly define the parameters and disregard the order."
   ]
  },
  {
   "cell_type": "code",
   "execution_count": 9,
   "metadata": {},
   "outputs": [
    {
     "data": {
      "text/html": [
       "<ol class=list-inline>\n",
       "\t<li>3.57652227132174</li>\n",
       "\t<li>14.4104179274</li>\n",
       "\t<li>16.5007432655229</li>\n",
       "\t<li>7.12895859634743</li>\n",
       "\t<li>-2.4792358309058</li>\n",
       "</ol>\n"
      ],
      "text/latex": [
       "\\begin{enumerate*}\n",
       "\\item 3.57652227132174\n",
       "\\item 14.4104179274\n",
       "\\item 16.5007432655229\n",
       "\\item 7.12895859634743\n",
       "\\item -2.4792358309058\n",
       "\\end{enumerate*}\n"
      ],
      "text/markdown": [
       "1. 3.57652227132174\n",
       "2. 14.4104179274\n",
       "3. 16.5007432655229\n",
       "4. 7.12895859634743\n",
       "5. -2.4792358309058\n",
       "\n",
       "\n"
      ],
      "text/plain": [
       "[1]  3.576522 14.410418 16.500743  7.128959 -2.479236"
      ]
     },
     "metadata": {},
     "output_type": "display_data"
    }
   ],
   "source": [
    "rnorm(mean=10, n=5, sd=8)"
   ]
  },
  {
   "cell_type": "markdown",
   "metadata": {},
   "source": [
    "You can also pass vectors to functions"
   ]
  },
  {
   "cell_type": "code",
   "execution_count": 10,
   "metadata": {},
   "outputs": [
    {
     "data": {
      "text/html": [
       "<ol class=list-inline>\n",
       "\t<li>10</li>\n",
       "\t<li>15</li>\n",
       "\t<li>20</li>\n",
       "</ol>\n"
      ],
      "text/latex": [
       "\\begin{enumerate*}\n",
       "\\item 10\n",
       "\\item 15\n",
       "\\item 20\n",
       "\\end{enumerate*}\n"
      ],
      "text/markdown": [
       "1. 10\n",
       "2. 15\n",
       "3. 20\n",
       "\n",
       "\n"
      ],
      "text/plain": [
       "[1] 10 15 20"
      ]
     },
     "metadata": {},
     "output_type": "display_data"
    }
   ],
   "source": [
    "x <- c(\"a\", \"b\", \"c\")\n",
    "A <- seq(from=10, to=20, along.with=x)\n",
    "A"
   ]
  },
  {
   "cell_type": "code",
   "execution_count": 11,
   "metadata": {},
   "outputs": [
    {
     "data": {
      "text/html": [
       "<ol class=list-inline>\n",
       "\t<li>3.16227766016838</li>\n",
       "\t<li>3.87298334620742</li>\n",
       "\t<li>4.47213595499958</li>\n",
       "</ol>\n"
      ],
      "text/latex": [
       "\\begin{enumerate*}\n",
       "\\item 3.16227766016838\n",
       "\\item 3.87298334620742\n",
       "\\item 4.47213595499958\n",
       "\\end{enumerate*}\n"
      ],
      "text/markdown": [
       "1. 3.16227766016838\n",
       "2. 3.87298334620742\n",
       "3. 4.47213595499958\n",
       "\n",
       "\n"
      ],
      "text/plain": [
       "[1] 3.162278 3.872983 4.472136"
      ]
     },
     "metadata": {},
     "output_type": "display_data"
    }
   ],
   "source": [
    "B <- sqrt(A)\n",
    "B"
   ]
  }
 ],
 "metadata": {
  "kernelspec": {
   "display_name": "R",
   "language": "R",
   "name": "ir"
  },
  "language_info": {
   "codemirror_mode": "r",
   "file_extension": ".r",
   "mimetype": "text/x-r-source",
   "name": "R",
   "pygments_lexer": "r",
   "version": "3.4.3"
  }
 },
 "nbformat": 4,
 "nbformat_minor": 2
}
