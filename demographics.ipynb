{
 "cells": [
  {
   "cell_type": "markdown",
   "metadata": {},
   "source": [
    "# Demographic Data\n",
    "\n",
    "We want to analyse the demographic data."
   ]
  },
  {
   "cell_type": "code",
   "execution_count": 2,
   "metadata": {},
   "outputs": [
    {
     "data": {
      "text/html": [
       "<table>\n",
       "<thead><tr><th scope=col>Country.Name</th><th scope=col>Country.Code</th><th scope=col>Birth.rate</th><th scope=col>Internet.users</th><th scope=col>Income.Group</th></tr></thead>\n",
       "<tbody>\n",
       "\t<tr><td>Aruba                   </td><td>ABW                     </td><td>10.244                  </td><td>78.90000                </td><td>High income             </td></tr>\n",
       "\t<tr><td>Afghanistan             </td><td>AFG                     </td><td>35.253                  </td><td> 5.90000                </td><td>Low income              </td></tr>\n",
       "\t<tr><td>Angola                  </td><td>AGO                     </td><td>45.985                  </td><td>19.10000                </td><td>Upper middle income     </td></tr>\n",
       "\t<tr><td>Albania                 </td><td>ALB                     </td><td>12.877                  </td><td>57.20000                </td><td>Upper middle income     </td></tr>\n",
       "\t<tr><td>United Arab Emirates    </td><td>ARE                     </td><td>11.044                  </td><td>88.00000                </td><td>High income             </td></tr>\n",
       "\t<tr><td>Argentina               </td><td>ARG                     </td><td>17.716                  </td><td>59.90000                </td><td>High income             </td></tr>\n",
       "\t<tr><td>Armenia                 </td><td>ARM                     </td><td>13.308                  </td><td>41.90000                </td><td>Lower middle income     </td></tr>\n",
       "\t<tr><td>Antigua and Barbuda     </td><td>ATG                     </td><td>16.447                  </td><td>63.40000                </td><td>High income             </td></tr>\n",
       "\t<tr><td>Australia               </td><td>AUS                     </td><td>13.200                  </td><td>83.00000                </td><td>High income             </td></tr>\n",
       "\t<tr><td>Austria                 </td><td>AUT                     </td><td> 9.400                  </td><td>80.61880                </td><td>High income             </td></tr>\n",
       "\t<tr><td>Azerbaijan              </td><td>AZE                     </td><td>18.300                  </td><td>58.70000                </td><td>Upper middle income     </td></tr>\n",
       "\t<tr><td>Burundi                 </td><td>BDI                     </td><td>44.151                  </td><td> 1.30000                </td><td>Low income              </td></tr>\n",
       "\t<tr><td>Belgium                 </td><td>BEL                     </td><td>11.200                  </td><td>82.17020                </td><td>High income             </td></tr>\n",
       "\t<tr><td>Benin                   </td><td>BEN                     </td><td>36.440                  </td><td> 4.90000                </td><td>Low income              </td></tr>\n",
       "\t<tr><td>Burkina Faso            </td><td>BFA                     </td><td>40.551                  </td><td> 9.10000                </td><td>Low income              </td></tr>\n",
       "\t<tr><td>Bangladesh              </td><td>BGD                     </td><td>20.142                  </td><td> 6.63000                </td><td>Lower middle income     </td></tr>\n",
       "\t<tr><td>Bulgaria                </td><td>BGR                     </td><td> 9.200                  </td><td>53.06150                </td><td>Upper middle income     </td></tr>\n",
       "\t<tr><td>Bahrain                 </td><td>BHR                     </td><td>15.040                  </td><td>90.00004                </td><td>High income             </td></tr>\n",
       "\t<tr><td>Bahamas, The            </td><td>BHS                     </td><td>15.339                  </td><td>72.00000                </td><td>High income             </td></tr>\n",
       "\t<tr><td>Bosnia and Herzegovina  </td><td>BIH                     </td><td> 9.062                  </td><td>57.79000                </td><td>Upper middle income     </td></tr>\n",
       "\t<tr><td>Belarus                 </td><td>BLR                     </td><td>12.500                  </td><td>54.17000                </td><td>Upper middle income     </td></tr>\n",
       "\t<tr><td>Belize                  </td><td>BLZ                     </td><td>23.092                  </td><td>33.60000                </td><td>Upper middle income     </td></tr>\n",
       "\t<tr><td>Bermuda                 </td><td>BMU                     </td><td>10.400                  </td><td>95.30000                </td><td>High income             </td></tr>\n",
       "\t<tr><td>Bolivia                 </td><td>BOL                     </td><td>24.236                  </td><td>36.94000                </td><td>Lower middle income     </td></tr>\n",
       "\t<tr><td>Brazil                  </td><td>BRA                     </td><td>14.931                  </td><td>51.04000                </td><td>Upper middle income     </td></tr>\n",
       "\t<tr><td>Barbados                </td><td>BRB                     </td><td>12.188                  </td><td>73.00000                </td><td>High income             </td></tr>\n",
       "\t<tr><td>Brunei Darussalam       </td><td>BRN                     </td><td>16.405                  </td><td>64.50000                </td><td>High income             </td></tr>\n",
       "\t<tr><td>Bhutan                  </td><td>BTN                     </td><td>18.134                  </td><td>29.90000                </td><td>Lower middle income     </td></tr>\n",
       "\t<tr><td>Botswana                </td><td>BWA                     </td><td>25.267                  </td><td>15.00000                </td><td>Upper middle income     </td></tr>\n",
       "\t<tr><td>Central African Republic</td><td>CAF                     </td><td>34.076                  </td><td> 3.50000                </td><td>Low income              </td></tr>\n",
       "\t<tr><td>⋮</td><td>⋮</td><td>⋮</td><td>⋮</td><td>⋮</td></tr>\n",
       "\t<tr><td>Seychelles                    </td><td>SYC                           </td><td>18.600                        </td><td>50.40                         </td><td>High income                   </td></tr>\n",
       "\t<tr><td>Syrian Arab Republic          </td><td>SYR                           </td><td>24.043                        </td><td>26.20                         </td><td>Lower middle income           </td></tr>\n",
       "\t<tr><td>Chad                          </td><td>TCD                           </td><td>45.745                        </td><td> 2.30                         </td><td>Low income                    </td></tr>\n",
       "\t<tr><td>Togo                          </td><td>TGO                           </td><td>36.080                        </td><td> 4.50                         </td><td>Low income                    </td></tr>\n",
       "\t<tr><td>Thailand                      </td><td>THA                           </td><td>11.041                        </td><td>28.94                         </td><td>Upper middle income           </td></tr>\n",
       "\t<tr><td>Tajikistan                    </td><td>TJK                           </td><td>30.792                        </td><td>16.00                         </td><td>Lower middle income           </td></tr>\n",
       "\t<tr><td>Turkmenistan                  </td><td>TKM                           </td><td>21.322                        </td><td> 9.60                         </td><td>Upper middle income           </td></tr>\n",
       "\t<tr><td>Timor-Leste                   </td><td>TLS                           </td><td>35.755                        </td><td> 1.10                         </td><td>Lower middle income           </td></tr>\n",
       "\t<tr><td>Tonga                         </td><td>TON                           </td><td>25.409                        </td><td>35.00                         </td><td>Upper middle income           </td></tr>\n",
       "\t<tr><td>Trinidad and Tobago           </td><td>TTO                           </td><td>14.590                        </td><td>63.80                         </td><td>High income                   </td></tr>\n",
       "\t<tr><td>Tunisia                       </td><td>TUN                           </td><td>19.800                        </td><td>43.80                         </td><td>Upper middle income           </td></tr>\n",
       "\t<tr><td>Turkey                        </td><td>TUR                           </td><td>16.836                        </td><td>46.25                         </td><td>Upper middle income           </td></tr>\n",
       "\t<tr><td>Tanzania                      </td><td>TZA                           </td><td>39.518                        </td><td> 4.40                         </td><td>Low income                    </td></tr>\n",
       "\t<tr><td>Uganda                        </td><td>UGA                           </td><td>43.474                        </td><td>16.20                         </td><td>Low income                    </td></tr>\n",
       "\t<tr><td>Ukraine                       </td><td>UKR                           </td><td>11.100                        </td><td>41.00                         </td><td>Lower middle income           </td></tr>\n",
       "\t<tr><td>Uruguay                       </td><td>URY                           </td><td>14.374                        </td><td>57.69                         </td><td>High income                   </td></tr>\n",
       "\t<tr><td>United States                 </td><td>USA                           </td><td>12.500                        </td><td>84.20                         </td><td>High income                   </td></tr>\n",
       "\t<tr><td>Uzbekistan                    </td><td>UZB                           </td><td>22.500                        </td><td>38.20                         </td><td>Lower middle income           </td></tr>\n",
       "\t<tr><td>St. Vincent and the Grenadines</td><td>VCT                           </td><td>16.306                        </td><td>52.00                         </td><td>Upper middle income           </td></tr>\n",
       "\t<tr><td>Venezuela, RB                 </td><td>VEN                           </td><td>19.842                        </td><td>54.90                         </td><td>High income                   </td></tr>\n",
       "\t<tr><td>Virgin Islands (U.S.)         </td><td>VIR                           </td><td>10.700                        </td><td>45.30                         </td><td>High income                   </td></tr>\n",
       "\t<tr><td>Vietnam                       </td><td>VNM                           </td><td>15.537                        </td><td>43.90                         </td><td>Lower middle income           </td></tr>\n",
       "\t<tr><td>Vanuatu                       </td><td>VUT                           </td><td>26.739                        </td><td>11.30                         </td><td>Lower middle income           </td></tr>\n",
       "\t<tr><td>West Bank and Gaza            </td><td>PSE                           </td><td>30.394                        </td><td>46.60                         </td><td>Lower middle income           </td></tr>\n",
       "\t<tr><td>Samoa                         </td><td>WSM                           </td><td>26.172                        </td><td>15.30                         </td><td>Lower middle income           </td></tr>\n",
       "\t<tr><td>Yemen, Rep.                   </td><td>YEM                           </td><td>32.947                        </td><td>20.00                         </td><td>Lower middle income           </td></tr>\n",
       "\t<tr><td>South Africa                  </td><td>ZAF                           </td><td>20.850                        </td><td>46.50                         </td><td>Upper middle income           </td></tr>\n",
       "\t<tr><td>Congo, Dem. Rep.              </td><td>COD                           </td><td>42.394                        </td><td> 2.20                         </td><td>Low income                    </td></tr>\n",
       "\t<tr><td>Zambia                        </td><td>ZMB                           </td><td>40.471                        </td><td>15.40                         </td><td>Lower middle income           </td></tr>\n",
       "\t<tr><td>Zimbabwe                      </td><td>ZWE                           </td><td>35.715                        </td><td>18.50                         </td><td>Low income                    </td></tr>\n",
       "</tbody>\n",
       "</table>\n"
      ],
      "text/latex": [
       "\\begin{tabular}{r|lllll}\n",
       " Country.Name & Country.Code & Birth.rate & Internet.users & Income.Group\\\\\n",
       "\\hline\n",
       "\t Aruba                    & ABW                      & 10.244                   & 78.90000                 & High income             \\\\\n",
       "\t Afghanistan              & AFG                      & 35.253                   &  5.90000                 & Low income              \\\\\n",
       "\t Angola                   & AGO                      & 45.985                   & 19.10000                 & Upper middle income     \\\\\n",
       "\t Albania                  & ALB                      & 12.877                   & 57.20000                 & Upper middle income     \\\\\n",
       "\t United Arab Emirates     & ARE                      & 11.044                   & 88.00000                 & High income             \\\\\n",
       "\t Argentina                & ARG                      & 17.716                   & 59.90000                 & High income             \\\\\n",
       "\t Armenia                  & ARM                      & 13.308                   & 41.90000                 & Lower middle income     \\\\\n",
       "\t Antigua and Barbuda      & ATG                      & 16.447                   & 63.40000                 & High income             \\\\\n",
       "\t Australia                & AUS                      & 13.200                   & 83.00000                 & High income             \\\\\n",
       "\t Austria                  & AUT                      &  9.400                   & 80.61880                 & High income             \\\\\n",
       "\t Azerbaijan               & AZE                      & 18.300                   & 58.70000                 & Upper middle income     \\\\\n",
       "\t Burundi                  & BDI                      & 44.151                   &  1.30000                 & Low income              \\\\\n",
       "\t Belgium                  & BEL                      & 11.200                   & 82.17020                 & High income             \\\\\n",
       "\t Benin                    & BEN                      & 36.440                   &  4.90000                 & Low income              \\\\\n",
       "\t Burkina Faso             & BFA                      & 40.551                   &  9.10000                 & Low income              \\\\\n",
       "\t Bangladesh               & BGD                      & 20.142                   &  6.63000                 & Lower middle income     \\\\\n",
       "\t Bulgaria                 & BGR                      &  9.200                   & 53.06150                 & Upper middle income     \\\\\n",
       "\t Bahrain                  & BHR                      & 15.040                   & 90.00004                 & High income             \\\\\n",
       "\t Bahamas, The             & BHS                      & 15.339                   & 72.00000                 & High income             \\\\\n",
       "\t Bosnia and Herzegovina   & BIH                      &  9.062                   & 57.79000                 & Upper middle income     \\\\\n",
       "\t Belarus                  & BLR                      & 12.500                   & 54.17000                 & Upper middle income     \\\\\n",
       "\t Belize                   & BLZ                      & 23.092                   & 33.60000                 & Upper middle income     \\\\\n",
       "\t Bermuda                  & BMU                      & 10.400                   & 95.30000                 & High income             \\\\\n",
       "\t Bolivia                  & BOL                      & 24.236                   & 36.94000                 & Lower middle income     \\\\\n",
       "\t Brazil                   & BRA                      & 14.931                   & 51.04000                 & Upper middle income     \\\\\n",
       "\t Barbados                 & BRB                      & 12.188                   & 73.00000                 & High income             \\\\\n",
       "\t Brunei Darussalam        & BRN                      & 16.405                   & 64.50000                 & High income             \\\\\n",
       "\t Bhutan                   & BTN                      & 18.134                   & 29.90000                 & Lower middle income     \\\\\n",
       "\t Botswana                 & BWA                      & 25.267                   & 15.00000                 & Upper middle income     \\\\\n",
       "\t Central African Republic & CAF                      & 34.076                   &  3.50000                 & Low income              \\\\\n",
       "\t ⋮ & ⋮ & ⋮ & ⋮ & ⋮\\\\\n",
       "\t Seychelles                     & SYC                            & 18.600                         & 50.40                          & High income                   \\\\\n",
       "\t Syrian Arab Republic           & SYR                            & 24.043                         & 26.20                          & Lower middle income           \\\\\n",
       "\t Chad                           & TCD                            & 45.745                         &  2.30                          & Low income                    \\\\\n",
       "\t Togo                           & TGO                            & 36.080                         &  4.50                          & Low income                    \\\\\n",
       "\t Thailand                       & THA                            & 11.041                         & 28.94                          & Upper middle income           \\\\\n",
       "\t Tajikistan                     & TJK                            & 30.792                         & 16.00                          & Lower middle income           \\\\\n",
       "\t Turkmenistan                   & TKM                            & 21.322                         &  9.60                          & Upper middle income           \\\\\n",
       "\t Timor-Leste                    & TLS                            & 35.755                         &  1.10                          & Lower middle income           \\\\\n",
       "\t Tonga                          & TON                            & 25.409                         & 35.00                          & Upper middle income           \\\\\n",
       "\t Trinidad and Tobago            & TTO                            & 14.590                         & 63.80                          & High income                   \\\\\n",
       "\t Tunisia                        & TUN                            & 19.800                         & 43.80                          & Upper middle income           \\\\\n",
       "\t Turkey                         & TUR                            & 16.836                         & 46.25                          & Upper middle income           \\\\\n",
       "\t Tanzania                       & TZA                            & 39.518                         &  4.40                          & Low income                    \\\\\n",
       "\t Uganda                         & UGA                            & 43.474                         & 16.20                          & Low income                    \\\\\n",
       "\t Ukraine                        & UKR                            & 11.100                         & 41.00                          & Lower middle income           \\\\\n",
       "\t Uruguay                        & URY                            & 14.374                         & 57.69                          & High income                   \\\\\n",
       "\t United States                  & USA                            & 12.500                         & 84.20                          & High income                   \\\\\n",
       "\t Uzbekistan                     & UZB                            & 22.500                         & 38.20                          & Lower middle income           \\\\\n",
       "\t St. Vincent and the Grenadines & VCT                            & 16.306                         & 52.00                          & Upper middle income           \\\\\n",
       "\t Venezuela, RB                  & VEN                            & 19.842                         & 54.90                          & High income                   \\\\\n",
       "\t Virgin Islands (U.S.)          & VIR                            & 10.700                         & 45.30                          & High income                   \\\\\n",
       "\t Vietnam                        & VNM                            & 15.537                         & 43.90                          & Lower middle income           \\\\\n",
       "\t Vanuatu                        & VUT                            & 26.739                         & 11.30                          & Lower middle income           \\\\\n",
       "\t West Bank and Gaza             & PSE                            & 30.394                         & 46.60                          & Lower middle income           \\\\\n",
       "\t Samoa                          & WSM                            & 26.172                         & 15.30                          & Lower middle income           \\\\\n",
       "\t Yemen, Rep.                    & YEM                            & 32.947                         & 20.00                          & Lower middle income           \\\\\n",
       "\t South Africa                   & ZAF                            & 20.850                         & 46.50                          & Upper middle income           \\\\\n",
       "\t Congo, Dem. Rep.               & COD                            & 42.394                         &  2.20                          & Low income                    \\\\\n",
       "\t Zambia                         & ZMB                            & 40.471                         & 15.40                          & Lower middle income           \\\\\n",
       "\t Zimbabwe                       & ZWE                            & 35.715                         & 18.50                          & Low income                    \\\\\n",
       "\\end{tabular}\n"
      ],
      "text/markdown": [
       "\n",
       "Country.Name | Country.Code | Birth.rate | Internet.users | Income.Group | \n",
       "|---|---|---|---|---|---|---|---|---|---|---|---|---|---|---|---|---|---|---|---|---|---|---|---|---|---|---|---|---|---|---|---|---|---|---|---|---|---|---|---|---|---|---|---|---|---|---|---|---|---|---|---|---|---|---|---|---|---|---|---|---|\n",
       "| Aruba                    | ABW                      | 10.244                   | 78.90000                 | High income              | \n",
       "| Afghanistan              | AFG                      | 35.253                   |  5.90000                 | Low income               | \n",
       "| Angola                   | AGO                      | 45.985                   | 19.10000                 | Upper middle income      | \n",
       "| Albania                  | ALB                      | 12.877                   | 57.20000                 | Upper middle income      | \n",
       "| United Arab Emirates     | ARE                      | 11.044                   | 88.00000                 | High income              | \n",
       "| Argentina                | ARG                      | 17.716                   | 59.90000                 | High income              | \n",
       "| Armenia                  | ARM                      | 13.308                   | 41.90000                 | Lower middle income      | \n",
       "| Antigua and Barbuda      | ATG                      | 16.447                   | 63.40000                 | High income              | \n",
       "| Australia                | AUS                      | 13.200                   | 83.00000                 | High income              | \n",
       "| Austria                  | AUT                      |  9.400                   | 80.61880                 | High income              | \n",
       "| Azerbaijan               | AZE                      | 18.300                   | 58.70000                 | Upper middle income      | \n",
       "| Burundi                  | BDI                      | 44.151                   |  1.30000                 | Low income               | \n",
       "| Belgium                  | BEL                      | 11.200                   | 82.17020                 | High income              | \n",
       "| Benin                    | BEN                      | 36.440                   |  4.90000                 | Low income               | \n",
       "| Burkina Faso             | BFA                      | 40.551                   |  9.10000                 | Low income               | \n",
       "| Bangladesh               | BGD                      | 20.142                   |  6.63000                 | Lower middle income      | \n",
       "| Bulgaria                 | BGR                      |  9.200                   | 53.06150                 | Upper middle income      | \n",
       "| Bahrain                  | BHR                      | 15.040                   | 90.00004                 | High income              | \n",
       "| Bahamas, The             | BHS                      | 15.339                   | 72.00000                 | High income              | \n",
       "| Bosnia and Herzegovina   | BIH                      |  9.062                   | 57.79000                 | Upper middle income      | \n",
       "| Belarus                  | BLR                      | 12.500                   | 54.17000                 | Upper middle income      | \n",
       "| Belize                   | BLZ                      | 23.092                   | 33.60000                 | Upper middle income      | \n",
       "| Bermuda                  | BMU                      | 10.400                   | 95.30000                 | High income              | \n",
       "| Bolivia                  | BOL                      | 24.236                   | 36.94000                 | Lower middle income      | \n",
       "| Brazil                   | BRA                      | 14.931                   | 51.04000                 | Upper middle income      | \n",
       "| Barbados                 | BRB                      | 12.188                   | 73.00000                 | High income              | \n",
       "| Brunei Darussalam        | BRN                      | 16.405                   | 64.50000                 | High income              | \n",
       "| Bhutan                   | BTN                      | 18.134                   | 29.90000                 | Lower middle income      | \n",
       "| Botswana                 | BWA                      | 25.267                   | 15.00000                 | Upper middle income      | \n",
       "| Central African Republic | CAF                      | 34.076                   |  3.50000                 | Low income               | \n",
       "| ⋮ | ⋮ | ⋮ | ⋮ | ⋮ | \n",
       "| Seychelles                     | SYC                            | 18.600                         | 50.40                          | High income                    | \n",
       "| Syrian Arab Republic           | SYR                            | 24.043                         | 26.20                          | Lower middle income            | \n",
       "| Chad                           | TCD                            | 45.745                         |  2.30                          | Low income                     | \n",
       "| Togo                           | TGO                            | 36.080                         |  4.50                          | Low income                     | \n",
       "| Thailand                       | THA                            | 11.041                         | 28.94                          | Upper middle income            | \n",
       "| Tajikistan                     | TJK                            | 30.792                         | 16.00                          | Lower middle income            | \n",
       "| Turkmenistan                   | TKM                            | 21.322                         |  9.60                          | Upper middle income            | \n",
       "| Timor-Leste                    | TLS                            | 35.755                         |  1.10                          | Lower middle income            | \n",
       "| Tonga                          | TON                            | 25.409                         | 35.00                          | Upper middle income            | \n",
       "| Trinidad and Tobago            | TTO                            | 14.590                         | 63.80                          | High income                    | \n",
       "| Tunisia                        | TUN                            | 19.800                         | 43.80                          | Upper middle income            | \n",
       "| Turkey                         | TUR                            | 16.836                         | 46.25                          | Upper middle income            | \n",
       "| Tanzania                       | TZA                            | 39.518                         |  4.40                          | Low income                     | \n",
       "| Uganda                         | UGA                            | 43.474                         | 16.20                          | Low income                     | \n",
       "| Ukraine                        | UKR                            | 11.100                         | 41.00                          | Lower middle income            | \n",
       "| Uruguay                        | URY                            | 14.374                         | 57.69                          | High income                    | \n",
       "| United States                  | USA                            | 12.500                         | 84.20                          | High income                    | \n",
       "| Uzbekistan                     | UZB                            | 22.500                         | 38.20                          | Lower middle income            | \n",
       "| St. Vincent and the Grenadines | VCT                            | 16.306                         | 52.00                          | Upper middle income            | \n",
       "| Venezuela, RB                  | VEN                            | 19.842                         | 54.90                          | High income                    | \n",
       "| Virgin Islands (U.S.)          | VIR                            | 10.700                         | 45.30                          | High income                    | \n",
       "| Vietnam                        | VNM                            | 15.537                         | 43.90                          | Lower middle income            | \n",
       "| Vanuatu                        | VUT                            | 26.739                         | 11.30                          | Lower middle income            | \n",
       "| West Bank and Gaza             | PSE                            | 30.394                         | 46.60                          | Lower middle income            | \n",
       "| Samoa                          | WSM                            | 26.172                         | 15.30                          | Lower middle income            | \n",
       "| Yemen, Rep.                    | YEM                            | 32.947                         | 20.00                          | Lower middle income            | \n",
       "| South Africa                   | ZAF                            | 20.850                         | 46.50                          | Upper middle income            | \n",
       "| Congo, Dem. Rep.               | COD                            | 42.394                         |  2.20                          | Low income                     | \n",
       "| Zambia                         | ZMB                            | 40.471                         | 15.40                          | Lower middle income            | \n",
       "| Zimbabwe                       | ZWE                            | 35.715                         | 18.50                          | Low income                     | \n",
       "\n",
       "\n"
      ],
      "text/plain": [
       "    Country.Name                   Country.Code Birth.rate Internet.users\n",
       "1   Aruba                          ABW          10.244     78.90000      \n",
       "2   Afghanistan                    AFG          35.253      5.90000      \n",
       "3   Angola                         AGO          45.985     19.10000      \n",
       "4   Albania                        ALB          12.877     57.20000      \n",
       "5   United Arab Emirates           ARE          11.044     88.00000      \n",
       "6   Argentina                      ARG          17.716     59.90000      \n",
       "7   Armenia                        ARM          13.308     41.90000      \n",
       "8   Antigua and Barbuda            ATG          16.447     63.40000      \n",
       "9   Australia                      AUS          13.200     83.00000      \n",
       "10  Austria                        AUT           9.400     80.61880      \n",
       "11  Azerbaijan                     AZE          18.300     58.70000      \n",
       "12  Burundi                        BDI          44.151      1.30000      \n",
       "13  Belgium                        BEL          11.200     82.17020      \n",
       "14  Benin                          BEN          36.440      4.90000      \n",
       "15  Burkina Faso                   BFA          40.551      9.10000      \n",
       "16  Bangladesh                     BGD          20.142      6.63000      \n",
       "17  Bulgaria                       BGR           9.200     53.06150      \n",
       "18  Bahrain                        BHR          15.040     90.00004      \n",
       "19  Bahamas, The                   BHS          15.339     72.00000      \n",
       "20  Bosnia and Herzegovina         BIH           9.062     57.79000      \n",
       "21  Belarus                        BLR          12.500     54.17000      \n",
       "22  Belize                         BLZ          23.092     33.60000      \n",
       "23  Bermuda                        BMU          10.400     95.30000      \n",
       "24  Bolivia                        BOL          24.236     36.94000      \n",
       "25  Brazil                         BRA          14.931     51.04000      \n",
       "26  Barbados                       BRB          12.188     73.00000      \n",
       "27  Brunei Darussalam              BRN          16.405     64.50000      \n",
       "28  Bhutan                         BTN          18.134     29.90000      \n",
       "29  Botswana                       BWA          25.267     15.00000      \n",
       "30  Central African Republic       CAF          34.076      3.50000      \n",
       "⋮   ⋮                              ⋮            ⋮          ⋮             \n",
       "166 Seychelles                     SYC          18.600     50.40         \n",
       "167 Syrian Arab Republic           SYR          24.043     26.20         \n",
       "168 Chad                           TCD          45.745      2.30         \n",
       "169 Togo                           TGO          36.080      4.50         \n",
       "170 Thailand                       THA          11.041     28.94         \n",
       "171 Tajikistan                     TJK          30.792     16.00         \n",
       "172 Turkmenistan                   TKM          21.322      9.60         \n",
       "173 Timor-Leste                    TLS          35.755      1.10         \n",
       "174 Tonga                          TON          25.409     35.00         \n",
       "175 Trinidad and Tobago            TTO          14.590     63.80         \n",
       "176 Tunisia                        TUN          19.800     43.80         \n",
       "177 Turkey                         TUR          16.836     46.25         \n",
       "178 Tanzania                       TZA          39.518      4.40         \n",
       "179 Uganda                         UGA          43.474     16.20         \n",
       "180 Ukraine                        UKR          11.100     41.00         \n",
       "181 Uruguay                        URY          14.374     57.69         \n",
       "182 United States                  USA          12.500     84.20         \n",
       "183 Uzbekistan                     UZB          22.500     38.20         \n",
       "184 St. Vincent and the Grenadines VCT          16.306     52.00         \n",
       "185 Venezuela, RB                  VEN          19.842     54.90         \n",
       "186 Virgin Islands (U.S.)          VIR          10.700     45.30         \n",
       "187 Vietnam                        VNM          15.537     43.90         \n",
       "188 Vanuatu                        VUT          26.739     11.30         \n",
       "189 West Bank and Gaza             PSE          30.394     46.60         \n",
       "190 Samoa                          WSM          26.172     15.30         \n",
       "191 Yemen, Rep.                    YEM          32.947     20.00         \n",
       "192 South Africa                   ZAF          20.850     46.50         \n",
       "193 Congo, Dem. Rep.               COD          42.394      2.20         \n",
       "194 Zambia                         ZMB          40.471     15.40         \n",
       "195 Zimbabwe                       ZWE          35.715     18.50         \n",
       "    Income.Group       \n",
       "1   High income        \n",
       "2   Low income         \n",
       "3   Upper middle income\n",
       "4   Upper middle income\n",
       "5   High income        \n",
       "6   High income        \n",
       "7   Lower middle income\n",
       "8   High income        \n",
       "9   High income        \n",
       "10  High income        \n",
       "11  Upper middle income\n",
       "12  Low income         \n",
       "13  High income        \n",
       "14  Low income         \n",
       "15  Low income         \n",
       "16  Lower middle income\n",
       "17  Upper middle income\n",
       "18  High income        \n",
       "19  High income        \n",
       "20  Upper middle income\n",
       "21  Upper middle income\n",
       "22  Upper middle income\n",
       "23  High income        \n",
       "24  Lower middle income\n",
       "25  Upper middle income\n",
       "26  High income        \n",
       "27  High income        \n",
       "28  Lower middle income\n",
       "29  Upper middle income\n",
       "30  Low income         \n",
       "⋮   ⋮                  \n",
       "166 High income        \n",
       "167 Lower middle income\n",
       "168 Low income         \n",
       "169 Low income         \n",
       "170 Upper middle income\n",
       "171 Lower middle income\n",
       "172 Upper middle income\n",
       "173 Lower middle income\n",
       "174 Upper middle income\n",
       "175 High income        \n",
       "176 Upper middle income\n",
       "177 Upper middle income\n",
       "178 Low income         \n",
       "179 Low income         \n",
       "180 Lower middle income\n",
       "181 High income        \n",
       "182 High income        \n",
       "183 Lower middle income\n",
       "184 Upper middle income\n",
       "185 High income        \n",
       "186 High income        \n",
       "187 Lower middle income\n",
       "188 Lower middle income\n",
       "189 Lower middle income\n",
       "190 Lower middle income\n",
       "191 Lower middle income\n",
       "192 Upper middle income\n",
       "193 Low income         \n",
       "194 Lower middle income\n",
       "195 Low income         "
      ]
     },
     "metadata": {},
     "output_type": "display_data"
    }
   ],
   "source": [
    "stats <- read.csv(\"data/DemographicData.csv\")\n",
    "stats"
   ]
  },
  {
   "cell_type": "code",
   "execution_count": 3,
   "metadata": {},
   "outputs": [
    {
     "data": {
      "text/html": [
       "195"
      ],
      "text/latex": [
       "195"
      ],
      "text/markdown": [
       "195"
      ],
      "text/plain": [
       "[1] 195"
      ]
     },
     "metadata": {},
     "output_type": "display_data"
    }
   ],
   "source": [
    "nrow(stats)"
   ]
  },
  {
   "cell_type": "code",
   "execution_count": 4,
   "metadata": {},
   "outputs": [
    {
     "data": {
      "text/html": [
       "5"
      ],
      "text/latex": [
       "5"
      ],
      "text/markdown": [
       "5"
      ],
      "text/plain": [
       "[1] 5"
      ]
     },
     "metadata": {},
     "output_type": "display_data"
    }
   ],
   "source": [
    "ncol(stats)"
   ]
  },
  {
   "cell_type": "code",
   "execution_count": 6,
   "metadata": {},
   "outputs": [
    {
     "data": {
      "text/html": [
       "<table>\n",
       "<thead><tr><th scope=col>Country.Name</th><th scope=col>Country.Code</th><th scope=col>Birth.rate</th><th scope=col>Internet.users</th><th scope=col>Income.Group</th></tr></thead>\n",
       "<tbody>\n",
       "\t<tr><td>Aruba               </td><td>ABW                 </td><td>10.244              </td><td>78.9                </td><td>High income         </td></tr>\n",
       "\t<tr><td>Afghanistan         </td><td>AFG                 </td><td>35.253              </td><td> 5.9                </td><td>Low income          </td></tr>\n",
       "\t<tr><td>Angola              </td><td>AGO                 </td><td>45.985              </td><td>19.1                </td><td>Upper middle income </td></tr>\n",
       "\t<tr><td>Albania             </td><td>ALB                 </td><td>12.877              </td><td>57.2                </td><td>Upper middle income </td></tr>\n",
       "\t<tr><td>United Arab Emirates</td><td>ARE                 </td><td>11.044              </td><td>88.0                </td><td>High income         </td></tr>\n",
       "\t<tr><td>Argentina           </td><td>ARG                 </td><td>17.716              </td><td>59.9                </td><td>High income         </td></tr>\n",
       "</tbody>\n",
       "</table>\n"
      ],
      "text/latex": [
       "\\begin{tabular}{r|lllll}\n",
       " Country.Name & Country.Code & Birth.rate & Internet.users & Income.Group\\\\\n",
       "\\hline\n",
       "\t Aruba                & ABW                  & 10.244               & 78.9                 & High income         \\\\\n",
       "\t Afghanistan          & AFG                  & 35.253               &  5.9                 & Low income          \\\\\n",
       "\t Angola               & AGO                  & 45.985               & 19.1                 & Upper middle income \\\\\n",
       "\t Albania              & ALB                  & 12.877               & 57.2                 & Upper middle income \\\\\n",
       "\t United Arab Emirates & ARE                  & 11.044               & 88.0                 & High income         \\\\\n",
       "\t Argentina            & ARG                  & 17.716               & 59.9                 & High income         \\\\\n",
       "\\end{tabular}\n"
      ],
      "text/markdown": [
       "\n",
       "Country.Name | Country.Code | Birth.rate | Internet.users | Income.Group | \n",
       "|---|---|---|---|---|---|\n",
       "| Aruba                | ABW                  | 10.244               | 78.9                 | High income          | \n",
       "| Afghanistan          | AFG                  | 35.253               |  5.9                 | Low income           | \n",
       "| Angola               | AGO                  | 45.985               | 19.1                 | Upper middle income  | \n",
       "| Albania              | ALB                  | 12.877               | 57.2                 | Upper middle income  | \n",
       "| United Arab Emirates | ARE                  | 11.044               | 88.0                 | High income          | \n",
       "| Argentina            | ARG                  | 17.716               | 59.9                 | High income          | \n",
       "\n",
       "\n"
      ],
      "text/plain": [
       "  Country.Name         Country.Code Birth.rate Internet.users\n",
       "1 Aruba                ABW          10.244     78.9          \n",
       "2 Afghanistan          AFG          35.253      5.9          \n",
       "3 Angola               AGO          45.985     19.1          \n",
       "4 Albania              ALB          12.877     57.2          \n",
       "5 United Arab Emirates ARE          11.044     88.0          \n",
       "6 Argentina            ARG          17.716     59.9          \n",
       "  Income.Group       \n",
       "1 High income        \n",
       "2 Low income         \n",
       "3 Upper middle income\n",
       "4 Upper middle income\n",
       "5 High income        \n",
       "6 High income        "
      ]
     },
     "metadata": {},
     "output_type": "display_data"
    }
   ],
   "source": [
    "head(stats)"
   ]
  },
  {
   "cell_type": "code",
   "execution_count": 7,
   "metadata": {},
   "outputs": [
    {
     "data": {
      "text/html": [
       "<table>\n",
       "<thead><tr><th></th><th scope=col>Country.Name</th><th scope=col>Country.Code</th><th scope=col>Birth.rate</th><th scope=col>Internet.users</th><th scope=col>Income.Group</th></tr></thead>\n",
       "<tbody>\n",
       "\t<tr><th scope=row>190</th><td>Samoa              </td><td>WSM                </td><td>26.172             </td><td>15.3               </td><td>Lower middle income</td></tr>\n",
       "\t<tr><th scope=row>191</th><td>Yemen, Rep.        </td><td>YEM                </td><td>32.947             </td><td>20.0               </td><td>Lower middle income</td></tr>\n",
       "\t<tr><th scope=row>192</th><td>South Africa       </td><td>ZAF                </td><td>20.850             </td><td>46.5               </td><td>Upper middle income</td></tr>\n",
       "\t<tr><th scope=row>193</th><td>Congo, Dem. Rep.   </td><td>COD                </td><td>42.394             </td><td> 2.2               </td><td>Low income         </td></tr>\n",
       "\t<tr><th scope=row>194</th><td>Zambia             </td><td>ZMB                </td><td>40.471             </td><td>15.4               </td><td>Lower middle income</td></tr>\n",
       "\t<tr><th scope=row>195</th><td>Zimbabwe           </td><td>ZWE                </td><td>35.715             </td><td>18.5               </td><td>Low income         </td></tr>\n",
       "</tbody>\n",
       "</table>\n"
      ],
      "text/latex": [
       "\\begin{tabular}{r|lllll}\n",
       "  & Country.Name & Country.Code & Birth.rate & Internet.users & Income.Group\\\\\n",
       "\\hline\n",
       "\t190 & Samoa               & WSM                 & 26.172              & 15.3                & Lower middle income\\\\\n",
       "\t191 & Yemen, Rep.         & YEM                 & 32.947              & 20.0                & Lower middle income\\\\\n",
       "\t192 & South Africa        & ZAF                 & 20.850              & 46.5                & Upper middle income\\\\\n",
       "\t193 & Congo, Dem. Rep.    & COD                 & 42.394              &  2.2                & Low income         \\\\\n",
       "\t194 & Zambia              & ZMB                 & 40.471              & 15.4                & Lower middle income\\\\\n",
       "\t195 & Zimbabwe            & ZWE                 & 35.715              & 18.5                & Low income         \\\\\n",
       "\\end{tabular}\n"
      ],
      "text/markdown": [
       "\n",
       "| <!--/--> | Country.Name | Country.Code | Birth.rate | Internet.users | Income.Group | \n",
       "|---|---|---|---|---|---|\n",
       "| 190 | Samoa               | WSM                 | 26.172              | 15.3                | Lower middle income | \n",
       "| 191 | Yemen, Rep.         | YEM                 | 32.947              | 20.0                | Lower middle income | \n",
       "| 192 | South Africa        | ZAF                 | 20.850              | 46.5                | Upper middle income | \n",
       "| 193 | Congo, Dem. Rep.    | COD                 | 42.394              |  2.2                | Low income          | \n",
       "| 194 | Zambia              | ZMB                 | 40.471              | 15.4                | Lower middle income | \n",
       "| 195 | Zimbabwe            | ZWE                 | 35.715              | 18.5                | Low income          | \n",
       "\n",
       "\n"
      ],
      "text/plain": [
       "    Country.Name     Country.Code Birth.rate Internet.users Income.Group       \n",
       "190 Samoa            WSM          26.172     15.3           Lower middle income\n",
       "191 Yemen, Rep.      YEM          32.947     20.0           Lower middle income\n",
       "192 South Africa     ZAF          20.850     46.5           Upper middle income\n",
       "193 Congo, Dem. Rep. COD          42.394      2.2           Low income         \n",
       "194 Zambia           ZMB          40.471     15.4           Lower middle income\n",
       "195 Zimbabwe         ZWE          35.715     18.5           Low income         "
      ]
     },
     "metadata": {},
     "output_type": "display_data"
    }
   ],
   "source": [
    "tail(stats)"
   ]
  },
  {
   "cell_type": "code",
   "execution_count": 8,
   "metadata": {},
   "outputs": [
    {
     "name": "stdout",
     "output_type": "stream",
     "text": [
      "'data.frame':\t195 obs. of  5 variables:\n",
      " $ Country.Name  : Factor w/ 195 levels \"Afghanistan\",..: 8 1 4 2 183 6 7 5 9 10 ...\n",
      " $ Country.Code  : Factor w/ 195 levels \"ABW\",\"AFG\",\"AGO\",..: 1 2 3 4 5 6 7 8 9 10 ...\n",
      " $ Birth.rate    : num  10.2 35.3 46 12.9 11 ...\n",
      " $ Internet.users: num  78.9 5.9 19.1 57.2 88 ...\n",
      " $ Income.Group  : Factor w/ 4 levels \"High income\",..: 1 2 4 4 1 1 3 1 1 1 ...\n"
     ]
    }
   ],
   "source": [
    "str(stats)"
   ]
  },
  {
   "cell_type": "code",
   "execution_count": 9,
   "metadata": {},
   "outputs": [
    {
     "data": {
      "text/plain": [
       "              Country.Name  Country.Code   Birth.rate    Internet.users \n",
       " Afghanistan        :  1   ABW    :  1   Min.   : 7.90   Min.   : 0.90  \n",
       " Albania            :  1   AFG    :  1   1st Qu.:12.12   1st Qu.:14.52  \n",
       " Algeria            :  1   AGO    :  1   Median :19.68   Median :41.00  \n",
       " Angola             :  1   ALB    :  1   Mean   :21.47   Mean   :42.08  \n",
       " Antigua and Barbuda:  1   ARE    :  1   3rd Qu.:29.76   3rd Qu.:66.22  \n",
       " Argentina          :  1   ARG    :  1   Max.   :49.66   Max.   :96.55  \n",
       " (Other)            :189   (Other):189                                  \n",
       "              Income.Group\n",
       " High income        :67   \n",
       " Low income         :30   \n",
       " Lower middle income:50   \n",
       " Upper middle income:48   \n",
       "                          \n",
       "                          \n",
       "                          "
      ]
     },
     "metadata": {},
     "output_type": "display_data"
    }
   ],
   "source": [
    "summary(stats)"
   ]
  },
  {
   "cell_type": "code",
   "execution_count": 10,
   "metadata": {},
   "outputs": [
    {
     "data": {
      "text/html": [
       "<ol class=list-inline>\n",
       "\t<li>'High income'</li>\n",
       "\t<li>'Low income'</li>\n",
       "\t<li>'Lower middle income'</li>\n",
       "\t<li>'Upper middle income'</li>\n",
       "</ol>\n"
      ],
      "text/latex": [
       "\\begin{enumerate*}\n",
       "\\item 'High income'\n",
       "\\item 'Low income'\n",
       "\\item 'Lower middle income'\n",
       "\\item 'Upper middle income'\n",
       "\\end{enumerate*}\n"
      ],
      "text/markdown": [
       "1. 'High income'\n",
       "2. 'Low income'\n",
       "3. 'Lower middle income'\n",
       "4. 'Upper middle income'\n",
       "\n",
       "\n"
      ],
      "text/plain": [
       "[1] \"High income\"         \"Low income\"          \"Lower middle income\"\n",
       "[4] \"Upper middle income\""
      ]
     },
     "metadata": {},
     "output_type": "display_data"
    }
   ],
   "source": [
    "levels(stats$Income.Group)"
   ]
  },
  {
   "cell_type": "code",
   "execution_count": 11,
   "metadata": {},
   "outputs": [],
   "source": [
    "library(ggplot2)"
   ]
  },
  {
   "cell_type": "code",
   "execution_count": null,
   "metadata": {},
   "outputs": [],
   "source": [
    "qplot(data=stats, x=Income.Group, y=Birth.rate)"
   ]
  }
 ],
 "metadata": {
  "kernelspec": {
   "display_name": "R",
   "language": "R",
   "name": "ir"
  },
  "language_info": {
   "codemirror_mode": "r",
   "file_extension": ".r",
   "mimetype": "text/x-r-source",
   "name": "R",
   "pygments_lexer": "r",
   "version": "3.4.3"
  }
 },
 "nbformat": 4,
 "nbformat_minor": 2
}
