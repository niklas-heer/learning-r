{
 "cells": [
  {
   "cell_type": "markdown",
   "metadata": {},
   "source": [
    "# Lesson 6\n",
    "\n",
    "## If statement\n",
    "\n",
    "First we need a random number.<br>\n",
    "Using `rnorm` we can generate a random number from a normally distruted set of numbers."
   ]
  },
  {
   "cell_type": "code",
   "execution_count": 14,
   "metadata": {},
   "outputs": [
    {
     "data": {
      "text/html": [
       "1.16643583335732"
      ],
      "text/latex": [
       "1.16643583335732"
      ],
      "text/markdown": [
       "1.16643583335732"
      ],
      "text/plain": [
       "[1] 1.166436"
      ]
     },
     "metadata": {},
     "output_type": "display_data"
    }
   ],
   "source": [
    "x <- rnorm(1)\n",
    "x"
   ]
  },
  {
   "cell_type": "markdown",
   "metadata": {},
   "source": [
    "Now we have a near zero random number. Somewhere around here:\n",
    "\n",
    "`<---- -2 ---- -1 ---- 0 ---- 1 ---- 2 ---->`\n",
    "\n",
    "\n",
    "Let's get to our if statement.\n",
    "\n",
    "### If-else"
   ]
  },
  {
   "cell_type": "code",
   "execution_count": 6,
   "metadata": {},
   "outputs": [
    {
     "data": {
      "text/html": [
       "'Less or equal to 1'"
      ],
      "text/latex": [
       "'Less or equal to 1'"
      ],
      "text/markdown": [
       "'Less or equal to 1'"
      ],
      "text/plain": [
       "[1] \"Less or equal to 1\""
      ]
     },
     "metadata": {},
     "output_type": "display_data"
    }
   ],
   "source": [
    "if (x > 1) {\n",
    "    answer <- \"Greater than 1\"\n",
    "} else {\n",
    "    answer <- \"Less or equal to 1\"\n",
    "}\n",
    "\n",
    "answer"
   ]
  },
  {
   "cell_type": "markdown",
   "metadata": {},
   "source": [
    "### Nested if"
   ]
  },
  {
   "cell_type": "code",
   "execution_count": 15,
   "metadata": {},
   "outputs": [
    {
     "data": {
      "text/html": [
       "'Less than -1'"
      ],
      "text/latex": [
       "'Less than -1'"
      ],
      "text/markdown": [
       "'Less than -1'"
      ],
      "text/plain": [
       "[1] \"Less than -1\""
      ]
     },
     "metadata": {},
     "output_type": "display_data"
    }
   ],
   "source": [
    "if (x > 1) {\n",
    "    answer <- \"Greater than 1\"\n",
    "} else {\n",
    "    if (x >= -1) {\n",
    "        answer <- \"Between -1 and 1\"\n",
    "    } else {\n",
    "        answer <- \"Less than -1\"\n",
    "    }\n",
    "}\n",
    "\n",
    "answer"
   ]
  },
  {
   "cell_type": "markdown",
   "metadata": {},
   "source": [
    "### Chained if (else if)"
   ]
  },
  {
   "cell_type": "code",
   "execution_count": 18,
   "metadata": {},
   "outputs": [
    {
     "data": {
      "text/html": [
       "'Greater than 1'"
      ],
      "text/latex": [
       "'Greater than 1'"
      ],
      "text/markdown": [
       "'Greater than 1'"
      ],
      "text/plain": [
       "[1] \"Greater than 1\""
      ]
     },
     "metadata": {},
     "output_type": "display_data"
    }
   ],
   "source": [
    "if (x > 1) {\n",
    "    answer <- \"Greater than 1\"\n",
    "} else if (x >= -1) {\n",
    "    answer <- \"Between -1 and 1\"\n",
    "} else {\n",
    "    answer <- \"Less than -1\"\n",
    "}\n",
    "\n",
    "answer"
   ]
  }
 ],
 "metadata": {
  "kernelspec": {
   "display_name": "R",
   "language": "R",
   "name": "ir"
  },
  "language_info": {
   "codemirror_mode": "r",
   "file_extension": ".r",
   "mimetype": "text/x-r-source",
   "name": "R",
   "pygments_lexer": "r",
   "version": "3.4.3"
  }
 },
 "nbformat": 4,
 "nbformat_minor": 2
}
